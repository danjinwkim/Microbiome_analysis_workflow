{
 "cells": [
  {
   "cell_type": "markdown",
   "metadata": {},
   "source": [
    "# Importing Data"
   ]
  },
  {
   "cell_type": "code",
   "execution_count": 13,
   "metadata": {},
   "outputs": [],
   "source": [
    "dir = \"/Users/dankim/Desktop/NGS_run/repeat_intoxication_shift_experiment_05062022/NGS_miniseq/R2/\""
   ]
  },
  {
   "cell_type": "code",
   "execution_count": 14,
   "metadata": {},
   "outputs": [
    {
     "name": "stdout",
     "output_type": "stream",
     "text": [
      "/Users/dankim/Desktop/NGS_run/repeat_intoxication_shift_experiment_05062022/NGS_miniseq/R2\n"
     ]
    }
   ],
   "source": [
    "cd /Users/dankim/Desktop/NGS_run/repeat_intoxication_shift_experiment_05062022/NGS_miniseq/R2/"
   ]
  },
  {
   "cell_type": "code",
   "execution_count": 6,
   "metadata": {},
   "outputs": [
    {
     "name": "stdout",
     "output_type": "stream",
     "text": [
      "cembiolawnd1_S40_L001_R1_001.fastq.gz\r\n",
      "cembiolawnd3_S41_L001_R1_001.fastq.gz\r\n",
      "freshinoculum2_S39_L001_R1_001.fastq.gz\r\n",
      "inoculum1_S38_L001_R1_001.fastq.gz\r\n",
      "intoxkan1_S4_L001_R1_001.fastq.gz\r\n",
      "intoxkan2_S5_L001_R1_001.fastq.gz\r\n",
      "intoxkan3_S6_L001_R1_001.fastq.gz\r\n",
      "intoxneo1_S8_L001_R1_001.fastq.gz\r\n",
      "intoxneo2_S9_L001_R1_001.fastq.gz\r\n",
      "intoxneo3_S13_L001_R1_001.fastq.gz\r\n",
      "intoxnone1_S1_L001_R1_001.fastq.gz\r\n",
      "intoxnone2_S2_L001_R1_001.fastq.gz\r\n",
      "intoxnone3_S3_L001_R1_001.fastq.gz\r\n",
      "shiftkan1_S28_L001_R1_001.fastq.gz\r\n",
      "shiftkan2_S29_L001_R1_001.fastq.gz\r\n",
      "shiftkan3_S30_L001_R1_001.fastq.gz\r\n",
      "shiftneo1_S32_L001_R1_001.fastq.gz\r\n",
      "shiftneo2_S33_L001_R1_001.fastq.gz\r\n",
      "shiftneo3_S37_L001_R1_001.fastq.gz\r\n",
      "shiftnone1_S25_L001_R1_001.fastq.gz\r\n",
      "shiftnone2_S26_L001_R1_001.fastq.gz\r\n",
      "shiftnone3_S27_L001_R1_001.fastq.gz\r\n"
     ]
    }
   ],
   "source": [
    "ls"
   ]
  },
  {
   "cell_type": "code",
   "execution_count": 14,
   "metadata": {},
   "outputs": [
    {
     "name": "stdout",
     "output_type": "stream",
     "text": [
      "\u001b[32mExported /Users/dankim/Desktop/NGS_run/taxonomy_cembio.qza as TSVTaxonomyDirectoryFormat to directory /Users/dankim/Desktop/NGS_run/Repeat_big_experiment_01032022/minseq_run/\u001b[0m\r\n"
     ]
    }
   ],
   "source": [
    "!qiime tools export \\\n",
    "--input-path /Users/dankim/Desktop/NGS_run/taxonomy_cembio.qza \\\n",
    "--output-path /Users/dankim/Desktop/NGS_run/Repeat_big_experiment_01032022/minseq_run/"
   ]
  },
  {
   "cell_type": "code",
   "execution_count": 15,
   "metadata": {},
   "outputs": [
    {
     "name": "stdout",
     "output_type": "stream",
     "text": [
      "\u001b[32mExported /Users/dankim/Desktop/NGS_run/cembio_sequences.qza as DNASequencesDirectoryFormat to directory /Users/dankim/Desktop/NGS_run/Repeat_big_experiment_01032022/minseq_run\u001b[0m\r\n"
     ]
    }
   ],
   "source": [
    "!qiime tools export \\\n",
    "--input-path /Users/dankim/Desktop/NGS_run/cembio_sequences.qza \\\n",
    "--output-path /Users/dankim/Desktop/NGS_run/Repeat_big_experiment_01032022/minseq_run"
   ]
  },
  {
   "cell_type": "code",
   "execution_count": 7,
   "metadata": {},
   "outputs": [
    {
     "name": "stdout",
     "output_type": "stream",
     "text": [
      "\u001b[32mExported taxa-bar-plots-dada2_gg.qzv as Visualization to directory .\u001b[0m\r\n"
     ]
    }
   ],
   "source": [
    "!qiime tools export \\\n",
    "--input-path taxa-bar-plots-dada2_gg.qzv \\\n",
    "--output-path ."
   ]
  },
  {
   "cell_type": "markdown",
   "metadata": {},
   "source": [
    "# Training taxonomy classifier"
   ]
  },
  {
   "cell_type": "code",
   "execution_count": 16,
   "metadata": {
    "scrolled": true
   },
   "outputs": [
    {
     "name": "stdout",
     "output_type": "stream",
     "text": [
      "Usage: \u001b[34mqiime tools import\u001b[0m [OPTIONS]\n",
      "\n",
      "  Import data to create a new QIIME 2 Artifact. See https://docs.qiime2.org/\n",
      "  for usage examples and details on the file types and associated semantic\n",
      "  types that can be imported.\n",
      "\n",
      "\u001b[1mOptions\u001b[0m:\n",
      "  \u001b[34m\u001b[4m--type\u001b[0m TEXT             The semantic type of the artifact that will be\n",
      "                          created upon importing. Use --show-importable-types\n",
      "                          to see what importable semantic types are available\n",
      "                          in the current deployment.                \u001b[35m[required]\u001b[0m\n",
      "  \u001b[34m\u001b[4m--input-path\u001b[0m PATH       Path to file or directory that should be imported.\n",
      "                                                                    \u001b[35m[required]\u001b[0m\n",
      "  \u001b[34m\u001b[4m--output-path\u001b[0m ARTIFACT  Path where output artifact should be written.\n",
      "                                                                    \u001b[35m[required]\u001b[0m\n",
      "  \u001b[34m--input-format\u001b[0m TEXT     The format of the data to be imported. If not\n",
      "                          provided, data must be in the format expected by the\n",
      "                          semantic type provided via --type.\n",
      "  \u001b[34m--show-importable-types\u001b[0m Show the semantic types that can be supplied to\n",
      "                          --type to import data into an artifact.\n",
      "  \u001b[34m--show-importable-formats\u001b[0m\n",
      "                          Show formats that can be supplied to --input-format\n",
      "                          to import data into an artifact.\n",
      "  \u001b[34m--help\u001b[0m                  Show this message and exit.\n",
      "\n",
      "\u001b[33m                    There was a problem with the command:                     \u001b[0m\n",
      "\u001b[31m\u001b[1m (1/1) Invalid value for '--input-path': Path '/Users/dankim/Desktop/NGS_run/R\n",
      "  epeat_big_experiment_01032022/minseq_run/dna-sequences.fasta' does not\n",
      "  exist.\u001b[0m\n",
      "Usage: \u001b[34mqiime tools import\u001b[0m [OPTIONS]\n",
      "\n",
      "  Import data to create a new QIIME 2 Artifact. See https://docs.qiime2.org/\n",
      "  for usage examples and details on the file types and associated semantic\n",
      "  types that can be imported.\n",
      "\n",
      "\u001b[1mOptions\u001b[0m:\n",
      "  \u001b[34m\u001b[4m--type\u001b[0m TEXT             The semantic type of the artifact that will be\n",
      "                          created upon importing. Use --show-importable-types\n",
      "                          to see what importable semantic types are available\n",
      "                          in the current deployment.                \u001b[35m[required]\u001b[0m\n",
      "  \u001b[34m\u001b[4m--input-path\u001b[0m PATH       Path to file or directory that should be imported.\n",
      "                                                                    \u001b[35m[required]\u001b[0m\n",
      "  \u001b[34m\u001b[4m--output-path\u001b[0m ARTIFACT  Path where output artifact should be written.\n",
      "                                                                    \u001b[35m[required]\u001b[0m\n",
      "  \u001b[34m--input-format\u001b[0m TEXT     The format of the data to be imported. If not\n",
      "                          provided, data must be in the format expected by the\n",
      "                          semantic type provided via --type.\n",
      "  \u001b[34m--show-importable-types\u001b[0m Show the semantic types that can be supplied to\n",
      "                          --type to import data into an artifact.\n",
      "  \u001b[34m--show-importable-formats\u001b[0m\n",
      "                          Show formats that can be supplied to --input-format\n",
      "                          to import data into an artifact.\n",
      "  \u001b[34m--help\u001b[0m                  Show this message and exit.\n",
      "\n",
      "\u001b[33m                    There was a problem with the command:                     \u001b[0m\n",
      "\u001b[31m\u001b[1m (1/1) Invalid value for '--input-path': Path '/Users/dankim/Desktop/NGS_run/R\n",
      "  epeat_big_experiment_01032022/minseq_run/taxonomy.tsv' does not exist.\u001b[0m\n"
     ]
    }
   ],
   "source": [
    "#Training taxonomy classifier\n",
    "!qiime tools import \\\n",
    "  --type 'FeatureData[Sequence]' \\\n",
    "  --input-path /Users/dankim/Desktop/NGS_run/Repeat_big_experiment_01032022/minseq_run/dna-sequences.fasta \\\n",
    "  --output-path cembio_op50.qza\n",
    "\n",
    "!qiime tools import \\\n",
    "  --type 'FeatureData[Taxonomy]' \\\n",
    "  --input-path /Users/dankim/Desktop/NGS_run/Repeat_big_experiment_01032022/minseq_run/taxonomy.tsv \\\n",
    "  --output-path cembio_op50_taxonomy.qza"
   ]
  },
  {
   "cell_type": "code",
   "execution_count": 22,
   "metadata": {},
   "outputs": [
    {
     "name": "stdout",
     "output_type": "stream",
     "text": [
      "Usage: \u001b[34mqiime tools import\u001b[0m [OPTIONS]\n",
      "\n",
      "  Import data to create a new QIIME 2 Artifact. See https://docs.qiime2.org/\n",
      "  for usage examples and details on the file types and associated semantic\n",
      "  types that can be imported.\n",
      "\n",
      "\u001b[1mOptions\u001b[0m:\n",
      "  \u001b[34m\u001b[4m--type\u001b[0m TEXT             The semantic type of the artifact that will be\n",
      "                          created upon importing. Use --show-importable-types\n",
      "                          to see what importable semantic types are available\n",
      "                          in the current deployment.                \u001b[35m[required]\u001b[0m\n",
      "  \u001b[34m\u001b[4m--input-path\u001b[0m PATH       Path to file or directory that should be imported.\n",
      "                                                                    \u001b[35m[required]\u001b[0m\n",
      "  \u001b[34m\u001b[4m--output-path\u001b[0m ARTIFACT  Path where output artifact should be written.\n",
      "                                                                    \u001b[35m[required]\u001b[0m\n",
      "  \u001b[34m--input-format\u001b[0m TEXT     The format of the data to be imported. If not\n",
      "                          provided, data must be in the format expected by the\n",
      "                          semantic type provided via --type.\n",
      "  \u001b[34m--show-importable-types\u001b[0m Show the semantic types that can be supplied to\n",
      "                          --type to import data into an artifact.\n",
      "  \u001b[34m--show-importable-formats\u001b[0m\n",
      "                          Show formats that can be supplied to --input-format\n",
      "                          to import data into an artifact.\n",
      "  \u001b[34m--help\u001b[0m                  Show this message and exit.\n",
      "\n",
      "\u001b[33m                    There was a problem with the command:                     \u001b[0m\n",
      "\u001b[31m\u001b[1m (1/1) Invalid value for '--input-path': Path 'emp-paired-end-sequences' does\n",
      "  not exist.\u001b[0m\n"
     ]
    }
   ],
   "source": [
    "!qiime tools import \\\n",
    "   --type EMPPairedEndSequences \\\n",
    "   --input-path emp-paired-end-sequences \\\n",
    "   --output-path emp-paired-end-sequences.qza"
   ]
  },
  {
   "cell_type": "markdown",
   "metadata": {},
   "source": [
    "# Demultiplexing Casava format"
   ]
  },
  {
   "cell_type": "code",
   "execution_count": 15,
   "metadata": {},
   "outputs": [
    {
     "name": "stdout",
     "output_type": "stream",
     "text": [
      "\u001b[32mImported /Users/dankim/Desktop/NGS_run/repeat_intoxication_shift_experiment_05062022/NGS_miniseq/R2/ as CasavaOneEightSingleLanePerSampleDirFmt to /Users/dankim/Desktop/NGS_run/repeat_intoxication_shift_experiment_05062022/NGS_miniseq/R2//demux\u001b[0m\r\n"
     ]
    }
   ],
   "source": [
    "#Demultiplexing Casava format\n",
    "!qiime tools import --type 'SampleData[SequencesWithQuality]' \\\n",
    "--input-path $dir \\\n",
    "--input-format CasavaOneEightSingleLanePerSampleDirFmt \\\n",
    "--output-path $dir/demux"
   ]
  },
  {
   "cell_type": "code",
   "execution_count": 16,
   "metadata": {},
   "outputs": [
    {
     "name": "stdout",
     "output_type": "stream",
     "text": [
      "\u001b[31m\u001b[1mPlugin error from demux:\r\n",
      "\r\n",
      "  'forward'\r\n",
      "\r\n",
      "Debug info has been saved to /var/folders/zn/771z7lnd5wg3pfjphzdq1bj80000gn/T/qiime2-q2cli-err-cxy30z9n.log\u001b[0m\r\n"
     ]
    }
   ],
   "source": [
    "#Demux summarize\n",
    "!qiime demux summarize \\\n",
    "  --i-data $dir/demux.qza \\\n",
    "  --o-visualization $dir/demux.qzv"
   ]
  },
  {
   "cell_type": "code",
   "execution_count": 16,
   "metadata": {},
   "outputs": [
    {
     "name": "stdout",
     "output_type": "stream",
     "text": [
      "\u001b[32mImported /Users/dankim/Desktop/NGS_run/paired_end_social_isolation_fecal_samples_04132022/ as CasavaOneEightSingleLanePerSampleDirFmt to demux-paired-end.qza\u001b[0m\r\n"
     ]
    }
   ],
   "source": [
    "!qiime tools import --type 'SampleData[PairedEndSequencesWithQuality]' \\\n",
    "--input-path $dir \\\n",
    "--input-format CasavaOneEightSingleLanePerSampleDirFmt \\\n",
    "--output-path demux-paired-end.qza"
   ]
  },
  {
   "cell_type": "code",
   "execution_count": 19,
   "metadata": {},
   "outputs": [
    {
     "name": "stdout",
     "output_type": "stream",
     "text": [
      "\u001b[32mSaved SampleData[JoinedSequencesWithQuality] to: demux-joined.qza\u001b[0m\r\n"
     ]
    }
   ],
   "source": [
    "#Joining reads\n",
    "!qiime vsearch join-pairs \\\n",
    "  --i-demultiplexed-seqs demux-paired-end.qza \\\n",
    "  --o-joined-sequences demux-joined.qza"
   ]
  },
  {
   "cell_type": "markdown",
   "metadata": {},
   "source": [
    "# Qiime2 Microbiome Composition Analysis"
   ]
  },
  {
   "cell_type": "code",
   "execution_count": 29,
   "metadata": {},
   "outputs": [
    {
     "name": "stdout",
     "output_type": "stream",
     "text": [
      "\u001b[32mSaved FeatureTable[Frequency] to: table.qza\u001b[0m\r\n",
      "\u001b[32mSaved FeatureData[Sequence] to: rep-seqs.qza\u001b[0m\r\n",
      "\u001b[32mSaved SampleData[DADA2Stats] to: stats.qza\u001b[0m\r\n"
     ]
    }
   ],
   "source": [
    "!qiime dada2 denoise-paired \\\n",
    "  --i-demultiplexed-seqs demux-paired-end.qza \\\n",
    "  --o-table table \\\n",
    "  --o-representative-sequences rep-seqs \\\n",
    "  --p-trim-left-f 13 \\\n",
    "  --p-trim-left-r 13 \\\n",
    "  --p-trunc-len-f 150 \\\n",
    "  --p-trunc-len-r 150 \\\n",
    "  --o-denoising-stats stats.qza"
   ]
  },
  {
   "cell_type": "code",
   "execution_count": 32,
   "metadata": {},
   "outputs": [
    {
     "name": "stdout",
     "output_type": "stream",
     "text": [
      "\u001b[32mSaved FeatureTable[Frequency] to: table-cr-cembio-97.qza\u001b[0m\r\n",
      "\u001b[32mSaved FeatureData[Sequence] to: rep-seqs-cr-cembio-97.qza\u001b[0m\r\n",
      "\u001b[32mSaved FeatureData[Sequence] to: unmatched-seqs-cr-cembio-97.qza\u001b[0m\r\n"
     ]
    }
   ],
   "source": [
    "##OTU clustering to greengene reference sequence\n",
    "!qiime vsearch cluster-features-closed-reference \\\n",
    "--i-table table.qza \\\n",
    "--i-sequences rep-seqs.qza \\\n",
    "--i-reference-sequences /Users/dankim/Desktop/NGS_run/99_otus.qza \\\n",
    "--p-perc-identity 0.97 \\\n",
    "--o-clustered-table table-cr-cembio-97.qza \\\n",
    "--o-clustered-sequences rep-seqs-cr-cembio-97.qza \\\n",
    "--o-unmatched-sequences unmatched-seqs-cr-cembio-97.qza\\\n",
    "--p-strand both"
   ]
  },
  {
   "cell_type": "code",
   "execution_count": 33,
   "metadata": {},
   "outputs": [
    {
     "name": "stdout",
     "output_type": "stream",
     "text": [
      "\u001b[32mSaved Visualization to: taxa-bar-cr-repeat_big_experiment-cembio-plots-97.qzv\u001b[0m\r\n"
     ]
    }
   ],
   "source": [
    "#Taxa bar plot cembio\n",
    "!qiime taxa barplot \\\n",
    "--i-table table-cr-cembio-97.qza \\\n",
    "--i-taxonomy /Users/dankim/Desktop/NGS_run/99_otu_taxonomy.qza \\\n",
    "--m-metadata-file Sample_metadata.txt \\\n",
    "--o-visualization taxa-bar-cr-repeat_big_experiment-cembio-plots-97.qzv"
   ]
  },
  {
   "cell_type": "code",
   "execution_count": null,
   "metadata": {},
   "outputs": [],
   "source": []
  },
  {
   "cell_type": "code",
   "execution_count": null,
   "metadata": {},
   "outputs": [],
   "source": []
  },
  {
   "cell_type": "code",
   "execution_count": null,
   "metadata": {},
   "outputs": [],
   "source": []
  },
  {
   "cell_type": "code",
   "execution_count": null,
   "metadata": {},
   "outputs": [],
   "source": []
  },
  {
   "cell_type": "code",
   "execution_count": 17,
   "metadata": {},
   "outputs": [
    {
     "name": "stdout",
     "output_type": "stream",
     "text": [
      "removing primers...\n",
      "\u001b[32mSaved SampleData[SequencesWithQuality] to: demux-trimmed.qza\u001b[0m\n",
      "\u001b[32mSaved SampleData[SequencesWithQuality] to: demux-F-R-trimmed.qza\u001b[0m\n",
      "\u001b[32mSaved SampleData[SequencesWithQuality] to: quality-demux-filtered.qza\u001b[0m\n",
      "\u001b[32mSaved QualityFilterStats to: quality-demux-filter-stats.qza\u001b[0m\n",
      "dereplicating...\n",
      "\u001b[32mSaved FeatureTable[Frequency] to: table-suc-denovo.qza\u001b[0m\n",
      "\u001b[32mSaved FeatureData[Sequence] to: rep-seqs-suc-denovo.qza\u001b[0m\n",
      "\u001b[32mSaved FeatureTable[Frequency] to: sample-contingency-filtered-table.qza\u001b[0m\n",
      "\u001b[32mSaved FeatureData[Sequence] to: sample-contingency-filtered-seqs.qza\u001b[0m\n",
      "\u001b[32mSaved FeatureData[Sequence] to: uchime-dn-out/chimeras.qza\u001b[0m\n",
      "\u001b[32mSaved FeatureData[Sequence] to: uchime-dn-out/nonchimeras.qza\u001b[0m\n",
      "\u001b[32mSaved UchimeStats to: uchime-dn-out/stats.qza\u001b[0m\n",
      "\u001b[32mSaved Visualization to: uchime-dn-out/stats.qzv\u001b[0m\n",
      "\u001b[32mSaved FeatureTable[Frequency] to: uchime-dn-out/table-nonchimeric-wo-borderline.qza\u001b[0m\n",
      "\u001b[32mSaved FeatureData[Sequence] to: uchime-dn-out/rep-seqs-nonchimeric-wo-borderline.qza\u001b[0m\n",
      "\u001b[32mSaved Visualization to: uchime-dn-out/table-nonchimeric-wo-borderline.qzv\u001b[0m\n",
      "OTU clustering\n",
      "Usage: \u001b[34mqiime vsearch cluster-features-closed-reference\u001b[0m [OPTIONS]\n",
      "\n",
      "  Given a feature table and the associated feature sequences, cluster the\n",
      "  features against a reference database based on user-specified percent\n",
      "  identity threshold of their sequences. This is not a general-purpose\n",
      "  closed-reference clustering method, but rather is intended to be used for\n",
      "  clustering the results of quality-filtering/dereplication methods, such as\n",
      "  DADA2, or for re-clustering a FeatureTable at a lower percent identity\n",
      "  than it was originally clustered at. When a group of features in the input\n",
      "  table are clustered into a single feature, the frequency of that single\n",
      "  feature in a given sample is the sum of the frequencies of the features\n",
      "  that were clustered in that sample. Feature identifiers will be inherited\n",
      "  from the centroid feature of each cluster. See the vsearch documentation\n",
      "  for details on how sequence clustering is performed.\n",
      "\n",
      "\u001b[1mInputs\u001b[0m:\n",
      "  \u001b[34m\u001b[4m--i-sequences\u001b[0m ARTIFACT \u001b[32mFeatureData[Sequence]\u001b[0m\n",
      "                          The sequences corresponding to the features in\n",
      "                          table.                                    \u001b[35m[required]\u001b[0m\n",
      "  \u001b[34m\u001b[4m--i-table\u001b[0m ARTIFACT \u001b[32mFeatureTable[Frequency]\u001b[0m\n",
      "                          The feature table to be clustered.        \u001b[35m[required]\u001b[0m\n",
      "  \u001b[34m\u001b[4m--i-reference-sequences\u001b[0m ARTIFACT \u001b[32mFeatureData[Sequence]\u001b[0m\n",
      "                          The sequences to use as cluster centroids.\n",
      "                                                                    \u001b[35m[required]\u001b[0m\n",
      "\u001b[1mParameters\u001b[0m:\n",
      "  \u001b[34m\u001b[4m--p-perc-identity\u001b[0m PROPORTION \u001b[32mRange(0, 1, inclusive_start=False,\u001b[0m\n",
      "    \u001b[32minclusive_end=True)\u001b[0m   The percent identity at which clustering should be\n",
      "                          performed. This parameter maps to vsearch's --id\n",
      "                          parameter.                                \u001b[35m[required]\u001b[0m\n",
      "  \u001b[34m--p-strand\u001b[0m TEXT \u001b[32mChoices('plus', 'both')\u001b[0m\n",
      "                          Search plus (i.e., forward) or both (i.e., forward\n",
      "                          and reverse complement) strands.   \u001b[35m[default: 'plus']\u001b[0m\n",
      "  \u001b[34m--p-threads\u001b[0m INTEGER \u001b[32mRange(0, 256, inclusive_end=True)\u001b[0m\n",
      "                          The number of threads to use for computation.\n",
      "                          Passing 0 will launch one thread per CPU core.\n",
      "                                                                  \u001b[35m[default: 1]\u001b[0m\n",
      "\u001b[1mOutputs\u001b[0m:\n",
      "  \u001b[34m\u001b[4m--o-clustered-table\u001b[0m ARTIFACT \u001b[32mFeatureTable[Frequency]\u001b[0m\n",
      "                          The table following clustering of features.\n",
      "                                                                    \u001b[35m[required]\u001b[0m\n",
      "  \u001b[34m\u001b[4m--o-clustered-sequences\u001b[0m ARTIFACT \u001b[32mFeatureData[Sequence]\u001b[0m\n",
      "                          The sequences representing clustered features,\n",
      "                          relabeled by the reference IDs.           \u001b[35m[required]\u001b[0m\n",
      "  \u001b[34m\u001b[4m--o-unmatched-sequences\u001b[0m ARTIFACT \u001b[32mFeatureData[Sequence]\u001b[0m\n",
      "                          The sequences which failed to match any reference\n",
      "                          sequences. This output maps to vsearch's\n",
      "                          --notmatched parameter.                   \u001b[35m[required]\u001b[0m\n",
      "\u001b[1mMiscellaneous\u001b[0m:\n",
      "  \u001b[34m--output-dir\u001b[0m PATH       Output unspecified results to a directory\n",
      "  \u001b[34m--verbose\u001b[0m / \u001b[34m--quiet\u001b[0m     Display verbose output to stdout and/or stderr\n",
      "                          during execution of this action. Or silence output\n",
      "                          if execution is successful (silence is golden).\n",
      "  \u001b[34m--examples\u001b[0m              Show usage examples and exit.\n",
      "  \u001b[34m--citations\u001b[0m             Show citations and exit.\n",
      "  \u001b[34m--help\u001b[0m                  Show this message and exit.\n",
      "\n",
      "\u001b[33m                    There was a problem with the command:                     \u001b[0m\n",
      "\u001b[31m\u001b[1m (1/1) Invalid value for '--i-reference-sequences':\n",
      "  '/Users/dankim/Desktop/NGS_run/99_otus.qza' is not a valid filepath\u001b[0m\n",
      "Usage: \u001b[34mqiime taxa barplot\u001b[0m [OPTIONS]\n",
      "\n",
      "  This visualizer produces an interactive barplot visualization of\n",
      "  taxonomies. Interactive features include multi-level sorting, plot\n",
      "  recoloring, sample relabeling, and SVG figure export.\n",
      "\n",
      "\u001b[1mInputs\u001b[0m:\n",
      "  \u001b[34m\u001b[4m--i-table\u001b[0m ARTIFACT \u001b[32mFeatureTable[Frequency]\u001b[0m\n",
      "                         Feature table to visualize at various taxonomic\n",
      "                         levels.                                    \u001b[35m[required]\u001b[0m\n",
      "  \u001b[34m\u001b[4m--i-taxonomy\u001b[0m ARTIFACT \u001b[32mFeatureData[Taxonomy]\u001b[0m\n",
      "                         Taxonomic annotations for features in the provided\n",
      "                         feature table. All features in the feature table must\n",
      "                         have a corresponding taxonomic annotation. Taxonomic\n",
      "                         annotations that are not present in the feature table\n",
      "                         will be ignored.                           \u001b[35m[required]\u001b[0m\n",
      "\u001b[1mParameters\u001b[0m:\n",
      "  \u001b[34m\u001b[4m--m-metadata-file\u001b[0m METADATA...\n",
      "    (multiple            The sample metadata.\n",
      "     arguments will be   \n",
      "     merged)                                                        \u001b[35m[required]\u001b[0m\n",
      "\u001b[1mOutputs\u001b[0m:\n",
      "  \u001b[34m\u001b[4m--o-visualization\u001b[0m VISUALIZATION\n",
      "                                                                    \u001b[35m[required]\u001b[0m\n",
      "\u001b[1mMiscellaneous\u001b[0m:\n",
      "  \u001b[34m--output-dir\u001b[0m PATH      Output unspecified results to a directory\n",
      "  \u001b[34m--verbose\u001b[0m / \u001b[34m--quiet\u001b[0m    Display verbose output to stdout and/or stderr\n",
      "                         during execution of this action. Or silence output if\n",
      "                         execution is successful (silence is golden).\n",
      "  \u001b[34m--examples\u001b[0m             Show usage examples and exit.\n",
      "  \u001b[34m--citations\u001b[0m            Show citations and exit.\n",
      "  \u001b[34m--help\u001b[0m                 Show this message and exit.\n",
      "\n",
      "\u001b[33m                  There were some problems with the command:                  \u001b[0m\n",
      "\u001b[31m\u001b[1m (1/2) Invalid value for '--i-table': 'table-cr-cembio-99.qza' is not a valid\n",
      "  filepath\u001b[0m\n",
      "\u001b[31m\u001b[1m (2/2) Invalid value for '--i-taxonomy':\n",
      "  '/Users/dankim/Desktop/NGS_run/99_otu_taxonomy.qza' is not a valid filepath\u001b[0m\n"
     ]
    }
   ],
   "source": [
    "## Remove primers\n",
    "print(\"removing primers...\")\n",
    "!qiime cutadapt trim-single \\\n",
    "--i-demultiplexed-sequences demux.qza \\\n",
    "--p-front GGACTACHVGGGTWTCTAAT \\\n",
    "--o-trimmed-sequences demux-trimmed.qza \n",
    "\n",
    "## Removing forward primer\n",
    "!qiime cutadapt trim-single \\\n",
    "--i-demultiplexed-sequences demux-trimmed.qza \\\n",
    "--p-front GTGCCAGCMGCCGCGGTAA \\\n",
    "--o-trimmed-sequences demux-F-R-trimmed.qza \n",
    "\n",
    "## filter based on quality score\n",
    "!qiime quality-filter q-score \\\n",
    "--i-demux demux-F-R-trimmed.qza \\\n",
    "--o-filtered-sequences quality-demux-filtered.qza \\\n",
    "--o-filter-stats quality-demux-filter-stats.qza \\\n",
    "--p-min-quality 25\n",
    "\n",
    "print(\"dereplicating...\")\n",
    "## dereplicate\n",
    "!qiime vsearch dereplicate-sequences \\\n",
    "--i-sequences quality-demux-filtered.qza \\\n",
    "--o-dereplicated-table table-suc-denovo.qza \\\n",
    "--o-dereplicated-sequences rep-seqs-suc-denovo.qza\n",
    "\n",
    "## Singleton removal\n",
    "!qiime feature-table filter-features \\\n",
    "  --i-table table-suc-denovo.qza \\\n",
    "  --p-min-samples 2 \\\n",
    "  --o-filtered-table sample-contingency-filtered-table.qza\n",
    "\n",
    "## Singleton removal and filtering seqs based on removed table\n",
    "!qiime feature-table filter-seqs \\\n",
    "--i-data rep-seqs-suc-denovo.qza \\\n",
    "--i-table sample-contingency-filtered-table.qza \\\n",
    "--o-filtered-data sample-contingency-filtered-seqs.qza\n",
    "\n",
    "## Remove chimeras\n",
    "!qiime vsearch uchime-denovo \\\n",
    "  --i-table sample-contingency-filtered-table.qza\\\n",
    "  --i-sequences sample-contingency-filtered-seqs.qza \\\n",
    "  --output-dir uchime-dn-out\n",
    "\n",
    "!qiime metadata tabulate \\\n",
    "  --m-input-file uchime-dn-out/stats.qza \\\n",
    "  --o-visualization uchime-dn-out/stats.qzv\n",
    "\n",
    "!qiime feature-table filter-features \\\n",
    "  --i-table table-suc-denovo.qza \\\n",
    "  --m-metadata-file uchime-dn-out/nonchimeras.qza \\\n",
    "  --o-filtered-table uchime-dn-out/table-nonchimeric-wo-borderline.qza\n",
    "\n",
    "!qiime feature-table filter-seqs \\\n",
    "  --i-data rep-seqs-suc-denovo.qza \\\n",
    "  --m-metadata-file uchime-dn-out/nonchimeras.qza \\\n",
    "  --o-filtered-data uchime-dn-out/rep-seqs-nonchimeric-wo-borderline.qza\n",
    "\n",
    "!qiime feature-table summarize \\\n",
    "  --i-table uchime-dn-out/table-nonchimeric-wo-borderline.qza \\\n",
    "  --o-visualization uchime-dn-out/table-nonchimeric-wo-borderline.qzv\n",
    "\n",
    "\n",
    "print(\"OTU clustering\")\n",
    "\n",
    "##OTU clustering to greengene reference sequence\n",
    "!qiime vsearch cluster-features-closed-reference \\\n",
    "--i-table uchime-dn-out/table-nonchimeric-wo-borderline.qza \\\n",
    "--i-sequences uchime-dn-out/rep-seqs-nonchimeric-wo-borderline.qza \\\n",
    "--i-reference-sequences /Users/dankim/Desktop/NGS_run/99_otus.qza \\\n",
    "--p-perc-identity 0.99 \\\n",
    "--o-clustered-table table-cr-cembio-99.qza \\\n",
    "--o-clustered-sequences rep-seqs-cr-cembio-99.qza \\\n",
    "--o-unmatched-sequences unmatched-seqs-cr-cembio-99.qza\\\n",
    "--p-strand both\n",
    "    \n",
    "#Taxa bar plot cembio\n",
    "!qiime taxa barplot \\\n",
    "--i-table table-cr-cembio-99.qza \\\n",
    "--i-taxonomy /Users/dankim/Desktop/NGS_run/99_otu_taxonomy.qza \\\n",
    "--m-metadata-file Sample_metadata.txt \\\n",
    "--o-visualization taxa-bar-cr-repeat_big_experiment-cembio-plots-99.qzv\n"
   ]
  },
  {
   "cell_type": "code",
   "execution_count": 18,
   "metadata": {},
   "outputs": [
    {
     "name": "stdout",
     "output_type": "stream",
     "text": [
      "\u001b[32mSaved FeatureTable[Frequency] to: table-cr-cembio-99.qza\u001b[0m\n",
      "\u001b[32mSaved FeatureData[Sequence] to: rep-seqs-cr-cembio-99.qza\u001b[0m\n",
      "\u001b[32mSaved FeatureData[Sequence] to: unmatched-seqs-cr-cembio-99.qza\u001b[0m\n",
      "\u001b[32mSaved Visualization to: taxa-bar-cr-repeat_big_experiment-cembio-plots-99.qzv\u001b[0m\n"
     ]
    }
   ],
   "source": [
    "\n",
    "##OTU clustering to cembio reference sequence\n",
    "!qiime vsearch cluster-features-closed-reference \\\n",
    "--i-table uchime-dn-out/table-nonchimeric-wo-borderline.qza \\\n",
    "--i-sequences uchime-dn-out/rep-seqs-nonchimeric-wo-borderline.qza \\\n",
    "--i-reference-sequences /Users/dankim/Desktop/NGS_run/cembio_sequences.qza \\\n",
    "--p-perc-identity 0.99 \\\n",
    "--o-clustered-table table-cr-cembio-99.qza \\\n",
    "--o-clustered-sequences rep-seqs-cr-cembio-99.qza \\\n",
    "--o-unmatched-sequences unmatched-seqs-cr-cembio-99.qza\\\n",
    "--p-strand both\n",
    "\n",
    "#Taxa bar plot cembio\n",
    "!qiime taxa barplot \\\n",
    "--i-table table-cr-cembio-99.qza \\\n",
    "--i-taxonomy /Users/dankim/Desktop/NGS_run/taxonomy_cembio.qza \\\n",
    "--m-metadata-file Sample_metadata.txt \\\n",
    "--o-visualization taxa-bar-cr-repeat_big_experiment-cembio-plots-99.qzv"
   ]
  },
  {
   "cell_type": "code",
   "execution_count": null,
   "metadata": {},
   "outputs": [],
   "source": [
    "\n",
    "\n",
    "##OTU clustering to cembio reference sequence\n",
    "!qiime vsearch cluster-features-closed-reference \\\n",
    "--i-table uchime-dn-out/table-nonchimeric-wo-borderline.qza \\\n",
    "--i-sequences uchime-dn-out/rep-seqs-nonchimeric-wo-borderline.qza \\\n",
    "--i-reference-sequences /Users/dankim/Desktop/NGS_run/cembio_sequences.qza \\\n",
    "--p-perc-identity 0.99 \\\n",
    "--o-clustered-table table-cr-cembio-99.qza \\\n",
    "--o-clustered-sequences rep-seqs-cr-cembio-99.qza \\\n",
    "--o-unmatched-sequences unmatched-seqs-cr-cembio-99.qza\\\n",
    "--p-strand both\n",
    "\n",
    "#Taxa bar plot cembio\n",
    "!qiime taxa barplot \\\n",
    "--i-table table-cr-cembio-99.qza \\\n",
    "--i-taxonomy /Users/dankim/Desktop/NGS_run/taxonomy_cembio.qza \\\n",
    "--m-metadata-file Sample_metadata.txt \\\n",
    "--o-visualization taxa-bar-cr-repeat_big_experiment-cembio-plots-99.qzv\n",
    "\n",
    "##OTU clustering to greengene reference sequence\n",
    "!qiime vsearch cluster-features-closed-reference \\\n",
    "--i-table uchime-dn-out/table-nonchimeric-wo-borderline.qza \\\n",
    "--i-sequences uchime-dn-out/rep-seqs-nonchimeric-wo-borderline.qza \\\n",
    "--i-reference-sequences /Users/dankim/Desktop/NGS_run/gg-13-8-99-515-806-nb-classifier-2020.6.qza \\\n",
    "--p-perc-identity 0.99 \\\n",
    "--o-clustered-table table-cr-cembio-99.qza \\\n",
    "--o-clustered-sequences rep-seqs-cr-cembio-99.qza \\\n",
    "--o-unmatched-sequences unmatched-seqs-cr-cembio-99.qza\\\n",
    "--p-strand both\n",
    "\n",
    "#Taxa bar plot cembio\n",
    "!qiime taxa barplot \\\n",
    "--i-table table-cr-cembio-99.qza \\\n",
    "--i-taxonomy /Users/dankim/Desktop/NGS_run/99_otu_taxonomy.qza \\\n",
    "--m-metadata-file Sample_metadata.txt \\\n",
    "--o-visualization taxa-bar-cr-repeat_big_experiment-cembio-plots-99.qzv\n",
    "\n"
   ]
  },
  {
   "cell_type": "code",
   "execution_count": 21,
   "metadata": {},
   "outputs": [
    {
     "name": "stdout",
     "output_type": "stream",
     "text": [
      "\u001b[32mSaved FeatureTable[Frequency] to: table-cr-cembio-99.qza\u001b[0m\n",
      "\u001b[32mSaved FeatureData[Sequence] to: rep-seqs-cr-cembio-99.qza\u001b[0m\n",
      "\u001b[32mSaved FeatureData[Sequence] to: unmatched-seqs-cr-cembio-99.qza\u001b[0m\n",
      "\u001b[32mSaved Visualization to: taxa-bar-cr-repeat_big_experiment-cembio-plots-99.qzv\u001b[0m\n"
     ]
    }
   ],
   "source": [
    "##OTU clustering to greengene reference sequence\n",
    "!qiime vsearch cluster-features-closed-reference \\\n",
    "--i-table uchime-dn-out/table-nonchimeric-wo-borderline.qza \\\n",
    "--i-sequences uchime-dn-out/rep-seqs-nonchimeric-wo-borderline.qza \\\n",
    "--i-reference-sequences /Users/dankim/Desktop/NGS_run/99_otus.qza \\\n",
    "--p-perc-identity 0.99 \\\n",
    "--o-clustered-table table-cr-cembio-99.qza \\\n",
    "--o-clustered-sequences rep-seqs-cr-cembio-99.qza \\\n",
    "--o-unmatched-sequences unmatched-seqs-cr-cembio-99.qza\\\n",
    "--p-strand both\n",
    "    \n",
    "#Taxa bar plot cembio\n",
    "!qiime taxa barplot \\\n",
    "--i-table table-cr-cembio-99.qza \\\n",
    "--i-taxonomy /Users/dankim/Desktop/NGS_run/99_otu_taxonomy.qza \\\n",
    "--m-metadata-file Sample_metadata.txt \\\n",
    "--o-visualization taxa-bar-cr-repeat_big_experiment-cembio-plots-99.qzv\n",
    "\n"
   ]
  },
  {
   "cell_type": "code",
   "execution_count": 11,
   "metadata": {
    "scrolled": true
   },
   "outputs": [
    {
     "name": "stdout",
     "output_type": "stream",
     "text": [
      "\u001b[32mSaved FeatureTable[Frequency] to: table-cr-cembio-99.qza\u001b[0m\n",
      "\u001b[32mSaved FeatureData[Sequence] to: rep-seqs-cr-cembio-99.qza\u001b[0m\n",
      "\u001b[32mSaved FeatureData[Sequence] to: unmatched-seqs-cr-cembio-99.qza\u001b[0m\n",
      "\u001b[31m\u001b[1mPlugin error from taxa:\n",
      "\n",
      "  Sample IDs found in the table are missing in the metadata: {'025neo-N2-3', '025neolawn', '025neo-kgb-1-3', 'combined-025kan-kgb-1-1', 'None-N2-2', 'combined-none-kgb-1-1', 'none-kgb-1-2', 'combined-025kan-kgb-1-2', 'combined-025neo-N2-1', 'None-N2-1', 'none-kgb-1-1', 'combined-025neo-kgb-1-2', '025kan-kgb-1-3', '025neo-kgb-1-1', '025kan-N2-1', '025kan-kgb-1-2', '025neo-N2-2', 'combined-025neo-kgb-1-1', '025neo-kgb-1-2', 'combined-none-N2-2', '025kan-kgb-1-1', 'combined-none-kgb-1-2', 'Non2-N2-3', '025kanlawn', 'combined-025neo-N2-2', 'combined-025kan-N2-2', 'combined-none-N2-1', '025kan-N2-2', '025kan-N2-3', 'combined-025kan-N2-1'}.\n",
      "\n",
      "Debug info has been saved to /var/folders/zn/771z7lnd5wg3pfjphzdq1bj80000gn/T/qiime2-q2cli-err-3dhy2l0s.log\u001b[0m\n"
     ]
    }
   ],
   "source": [
    "##OTU clustering to cembio reference sequence\n",
    "!qiime vsearch cluster-features-closed-reference \\\n",
    "--i-table uchime-dn-out/table-nonchimeric-wo-borderline.qza \\\n",
    "--i-sequences uchime-dn-out/rep-seqs-nonchimeric-wo-borderline.qza \\\n",
    "--i-reference-sequences /Users/dankim/Desktop/NGS_run/cembio_sequences.qza \\\n",
    "--p-perc-identity 0.99 \\\n",
    "--o-clustered-table table-cr-cembio-99.qza \\\n",
    "--o-clustered-sequences rep-seqs-cr-cembio-99.qza \\\n",
    "--o-unmatched-sequences unmatched-seqs-cr-cembio-99.qza\\\n",
    "--p-strand both\n",
    "\n",
    "#Taxa bar plot cembio\n",
    "!qiime taxa barplot \\\n",
    "--i-table table-cr-cembio-99.qza \\\n",
    "--i-taxonomy /Users/dankim/Desktop/NGS_run/taxonomy_cembio.qza \\\n",
    "--m-metadata-file Sample_metadata.txt \\\n",
    "--o-visualization taxa-bar-cr-repeat_big_experiment-cembio-plots-99.qzv"
   ]
  },
  {
   "cell_type": "code",
   "execution_count": 14,
   "metadata": {},
   "outputs": [
    {
     "name": "stdout",
     "output_type": "stream",
     "text": [
      "\u001b[32mSaved Visualization to: taxa-bar-cr-repeat_big_experiment-cembio-plots-99.qzv\u001b[0m\r\n"
     ]
    }
   ],
   "source": [
    "\n",
    "#Taxa bar plot cembio\n",
    "!qiime taxa barplot \\\n",
    "--i-table table-cr-cembio-99.qza \\\n",
    "--i-taxonomy /Users/dankim/Desktop/NGS_run/taxonomy_cembio.qza \\\n",
    "--m-metadata-file Sample_metadata.txt \\\n",
    "--o-visualization taxa-bar-cr-repeat_big_experiment-cembio-plots-99.qzv"
   ]
  },
  {
   "cell_type": "code",
   "execution_count": 10,
   "metadata": {},
   "outputs": [
    {
     "name": "stdout",
     "output_type": "stream",
     "text": [
      "\u001b[32mSaved FeatureTable[Frequency] to: table-cr-cembio-op50new-99.qza\u001b[0m\n",
      "\u001b[32mSaved FeatureData[Sequence] to: rep-seqs-cr-cembio-op50new-99.qza\u001b[0m\n",
      "\u001b[32mSaved FeatureData[Sequence] to: unmatched-seqs-cr-cembio-op50new-99.qza\u001b[0m\n"
     ]
    }
   ],
   "source": [
    "##OTU clustering to cembio reference sequence\n",
    "!qiime vsearch cluster-features-closed-reference \\\n",
    "--i-table uchime-dn-out/table-nonchimeric-wo-borderline.qza \\\n",
    "--i-sequences uchime-dn-out/rep-seqs-nonchimeric-wo-borderline.qza \\\n",
    "--i-reference-sequences cembio_op50.qza \\\n",
    "--p-perc-identity 0.99 \\\n",
    "--o-clustered-table table-cr-cembio-op50new-99.qza \\\n",
    "--o-clustered-sequences rep-seqs-cr-cembio-op50new-99.qza \\\n",
    "--o-unmatched-sequences unmatched-seqs-cr-cembio-op50new-99.qza\\\n",
    "--p-strand both"
   ]
  },
  {
   "cell_type": "code",
   "execution_count": 11,
   "metadata": {},
   "outputs": [
    {
     "name": "stdout",
     "output_type": "stream",
     "text": [
      "\u001b[32mSaved FeatureTable[Frequency] to: table-no-op50.qza\u001b[0m\r\n"
     ]
    }
   ],
   "source": [
    "!qiime taxa filter-table \\\n",
    "--i-table table-cr-cembio-op50-99.qza \\\n",
    "--i-taxonomy cembio_op50_taxonomy.qza \\\n",
    "--p-exclude OP50 \\\n",
    "--o-filtered-table table-no-op50.qza"
   ]
  },
  {
   "cell_type": "code",
   "execution_count": 12,
   "metadata": {},
   "outputs": [
    {
     "name": "stdout",
     "output_type": "stream",
     "text": [
      "\u001b[32mSaved Visualization to: test-cembio-noop50-plots-99.qzv\u001b[0m\r\n"
     ]
    }
   ],
   "source": [
    "!qiime taxa barplot \\\n",
    "--i-table table-no-op50.qza \\\n",
    "--i-taxonomy taxonomy_cembio.qza \\\n",
    "--m-metadata-file Sample_metadata.txt \\\n",
    "--o-visualization test-cembio-noop50-plots-99.qzv"
   ]
  },
  {
   "cell_type": "code",
   "execution_count": 16,
   "metadata": {},
   "outputs": [
    {
     "name": "stdout",
     "output_type": "stream",
     "text": [
      "\u001b[32mSaved Visualization to: test-cembio-yesop50-plots-99.qzv\u001b[0m\r\n"
     ]
    }
   ],
   "source": [
    "!qiime taxa barplot \\\n",
    "--i-table table-cr-cembio-op50new-99.qza \\\n",
    "--i-taxonomy cembio_op50_taxonomy.qza \\\n",
    "--m-metadata-file Sample_metadata.txt \\\n",
    "--o-visualization test-cembio-yesop50-plots-99.qzv"
   ]
  },
  {
   "cell_type": "code",
   "execution_count": null,
   "metadata": {},
   "outputs": [],
   "source": []
  },
  {
   "cell_type": "code",
   "execution_count": null,
   "metadata": {},
   "outputs": [],
   "source": []
  },
  {
   "cell_type": "markdown",
   "metadata": {},
   "source": [
    "# Alpha diversity analysis"
   ]
  },
  {
   "cell_type": "markdown",
   "metadata": {},
   "source": [
    "## Generate a tree for phylogenetic diversity analyses"
   ]
  },
  {
   "cell_type": "code",
   "execution_count": 34,
   "metadata": {},
   "outputs": [
    {
     "name": "stdout",
     "output_type": "stream",
     "text": [
      "/Users/dankim/Desktop/NGS_run/Social_isolation_fecal_samples_04132022\n"
     ]
    }
   ],
   "source": [
    "cd ~/Desktop/NGS_run/Social_isolation_fecal_samples_04132022/"
   ]
  },
  {
   "cell_type": "code",
   "execution_count": 72,
   "metadata": {},
   "outputs": [
    {
     "name": "stdout",
     "output_type": "stream",
     "text": [
      "[Errno 2] No such file or directory: '/Volumes/Elements/Denovo-suc-demux/open-reference-gg-97'\n",
      "/Volumes/Elements/Denovo_suc_demux\n"
     ]
    }
   ],
   "source": [
    "cd /Volumes/Elements/Denovo-suc-demux/open-reference-gg-97"
   ]
  },
  {
   "cell_type": "code",
   "execution_count": 3,
   "metadata": {},
   "outputs": [
    {
     "name": "stdout",
     "output_type": "stream",
     "text": [
      "[Errno 2] No such file or directory: '/Volumes/Element/Denovo_suc_demux/open-reference-gg-97/'\n",
      "/Users/dankim\n"
     ]
    }
   ],
   "source": [
    "cd /Volumes/Element/Denovo_suc_demux/open-reference-gg-97/"
   ]
  },
  {
   "cell_type": "code",
   "execution_count": 35,
   "metadata": {},
   "outputs": [
    {
     "name": "stdout",
     "output_type": "stream",
     "text": [
      "\u001b[32mSaved FeatureData[AlignedSequence] to: aligned-rep-seqs.qza\u001b[0m\n",
      "\u001b[32mSaved FeatureData[AlignedSequence] to: masked-aligned-rep-seqs.qza\u001b[0m\n",
      "\u001b[32mSaved Phylogeny[Unrooted] to: unrooted-tree.qza\u001b[0m\n",
      "\u001b[32mSaved Phylogeny[Rooted] to: rooted-tree.qza\u001b[0m\n"
     ]
    }
   ],
   "source": [
    "!qiime phylogeny align-to-tree-mafft-fasttree \\\n",
    "  --i-sequences rep-seqs-cr-cembio-99.qza \\\n",
    "  --o-alignment aligned-rep-seqs.qza \\\n",
    "  --o-masked-alignment masked-aligned-rep-seqs.qza \\\n",
    "  --o-tree unrooted-tree.qza \\\n",
    "  --o-rooted-tree rooted-tree.qza"
   ]
  },
  {
   "cell_type": "code",
   "execution_count": 42,
   "metadata": {
    "scrolled": true
   },
   "outputs": [
    {
     "name": "stdout",
     "output_type": "stream",
     "text": [
      "\u001b[32mSaved FeatureTable[Frequency] to: core-metrics-results_20000/rarefied_table.qza\u001b[0m\n",
      "\u001b[32mSaved SampleData[AlphaDiversity] to: core-metrics-results_20000/faith_pd_vector.qza\u001b[0m\n",
      "\u001b[32mSaved SampleData[AlphaDiversity] to: core-metrics-results_20000/observed_features_vector.qza\u001b[0m\n",
      "\u001b[32mSaved SampleData[AlphaDiversity] to: core-metrics-results_20000/shannon_vector.qza\u001b[0m\n",
      "\u001b[32mSaved SampleData[AlphaDiversity] to: core-metrics-results_20000/evenness_vector.qza\u001b[0m\n",
      "\u001b[32mSaved DistanceMatrix to: core-metrics-results_20000/unweighted_unifrac_distance_matrix.qza\u001b[0m\n",
      "\u001b[32mSaved DistanceMatrix to: core-metrics-results_20000/weighted_unifrac_distance_matrix.qza\u001b[0m\n",
      "\u001b[32mSaved DistanceMatrix to: core-metrics-results_20000/jaccard_distance_matrix.qza\u001b[0m\n",
      "\u001b[32mSaved DistanceMatrix to: core-metrics-results_20000/bray_curtis_distance_matrix.qza\u001b[0m\n",
      "\u001b[32mSaved PCoAResults to: core-metrics-results_20000/unweighted_unifrac_pcoa_results.qza\u001b[0m\n",
      "\u001b[32mSaved PCoAResults to: core-metrics-results_20000/weighted_unifrac_pcoa_results.qza\u001b[0m\n",
      "\u001b[32mSaved PCoAResults to: core-metrics-results_20000/jaccard_pcoa_results.qza\u001b[0m\n",
      "\u001b[32mSaved PCoAResults to: core-metrics-results_20000/bray_curtis_pcoa_results.qza\u001b[0m\n",
      "\u001b[32mSaved Visualization to: core-metrics-results_20000/unweighted_unifrac_emperor.qzv\u001b[0m\n",
      "\u001b[32mSaved Visualization to: core-metrics-results_20000/weighted_unifrac_emperor.qzv\u001b[0m\n",
      "\u001b[32mSaved Visualization to: core-metrics-results_20000/jaccard_emperor.qzv\u001b[0m\n",
      "\u001b[32mSaved Visualization to: core-metrics-results_20000/bray_curtis_emperor.qzv\u001b[0m\n"
     ]
    }
   ],
   "source": [
    "!qiime diversity core-metrics-phylogenetic \\\n",
    "  --i-phylogeny rooted-tree.qza \\\n",
    "  --i-table table-cr-cembio-99.qza \\\n",
    "  --p-sampling-depth 20000 \\\n",
    "  --m-metadata-file Sample_metadata.txt \\\n",
    "  --output-dir core-metrics-results_20000"
   ]
  },
  {
   "cell_type": "code",
   "execution_count": 44,
   "metadata": {},
   "outputs": [
    {
     "name": "stdout",
     "output_type": "stream",
     "text": [
      "\u001b[32mExported /Users/dankim/Desktop/NGS_run/Social_isolation_fecal_samples_04132022/core-metrics-results_20000/weighted_unifrac_distance_matrix.qza as DistanceMatrixDirectoryFormat to directory /Users/dankim/Desktop/NGS_run/Social_isolation_fecal_samples_04132022/core-metrics-results_20000/\u001b[0m\r\n"
     ]
    }
   ],
   "source": [
    "!qiime tools export \\\n",
    "--input-path /Users/dankim/Desktop/NGS_run/Social_isolation_fecal_samples_04132022/core-metrics-results_20000/weighted_unifrac_distance_matrix.qza \\\n",
    "--output-path /Users/dankim/Desktop/NGS_run/Social_isolation_fecal_samples_04132022/core-metrics-results_20000/"
   ]
  },
  {
   "cell_type": "code",
   "execution_count": 43,
   "metadata": {},
   "outputs": [
    {
     "name": "stdout",
     "output_type": "stream",
     "text": [
      "\u001b[32mExported /Users/dankim/Desktop/NGS_run/Social_isolation_fecal_samples_04132022/core-metrics-results_20000/weighted_unifrac_pcoa_results.qza as OrdinationDirectoryFormat to directory /Users/dankim/Desktop/NGS_run/Social_isolation_fecal_samples_04132022/core-metrics-results_20000/\u001b[0m\r\n"
     ]
    }
   ],
   "source": [
    "!qiime tools export \\\n",
    "--input-path /Users/dankim/Desktop/NGS_run/Social_isolation_fecal_samples_04132022/core-metrics-results_20000/weighted_unifrac_pcoa_results.qza \\\n",
    "--output-path /Users/dankim/Desktop/NGS_run/Social_isolation_fecal_samples_04132022/core-metrics-results_20000/"
   ]
  },
  {
   "cell_type": "code",
   "execution_count": 4,
   "metadata": {},
   "outputs": [
    {
     "name": "stdout",
     "output_type": "stream",
     "text": [
      "/Volumes/Element/Denovo_suc_aging_demux/open-reference-gg-97\n"
     ]
    }
   ],
   "source": [
    "cd /Volumes/Element/Denovo_suc_aging_demux/open-reference-gg-97/"
   ]
  },
  {
   "cell_type": "code",
   "execution_count": 38,
   "metadata": {},
   "outputs": [
    {
     "name": "stdout",
     "output_type": "stream",
     "text": [
      "Usage: \u001b[34mqiime diversity beta-group-significance\u001b[0m [OPTIONS]\r\n",
      "\r\n",
      "  Determine whether groups of samples are significantly different from one\r\n",
      "  another using a permutation-based statistical test.\r\n",
      "\r\n",
      "\u001b[1mInputs\u001b[0m:\r\n",
      "  \u001b[34m\u001b[4m--i-distance-matrix\u001b[0m ARTIFACT\r\n",
      "    \u001b[32mDistanceMatrix\u001b[0m     Matrix of distances between pairs of samples.\r\n",
      "                                                                    \u001b[35m[required]\u001b[0m\r\n",
      "\u001b[1mParameters\u001b[0m:\r\n",
      "  \u001b[34m\u001b[4m--m-metadata-file\u001b[0m METADATA\r\n",
      "  \u001b[34m\u001b[4m--m-metadata-column\u001b[0m COLUMN  \u001b[32mMetadataColumn[Categorical]\u001b[0m\r\n",
      "                       Categorical sample metadata column.          \u001b[35m[required]\u001b[0m\r\n",
      "  \u001b[34m--p-method\u001b[0m TEXT \u001b[32mChoices('permanova', 'anosim', 'permdisp')\u001b[0m\r\n",
      "                       The group significance test to be applied.\r\n",
      "                                                        \u001b[35m[default: 'permanova']\u001b[0m\r\n",
      "  \u001b[34m--p-pairwise\u001b[0m / \u001b[34m--p-no-pairwise\u001b[0m\r\n",
      "                       Perform pairwise tests between all pairs of groups in\r\n",
      "                       addition to the test across all groups. This can be\r\n",
      "                       very slow if there are a lot of groups in the metadata\r\n",
      "                       column.                                \u001b[35m[default: False]\u001b[0m\r\n",
      "  \u001b[34m--p-permutations\u001b[0m INTEGER\r\n",
      "                       The number of permutations to be run when computing\r\n",
      "                       p-values.                                \u001b[35m[default: 999]\u001b[0m\r\n",
      "\u001b[1mOutputs\u001b[0m:\r\n",
      "  \u001b[34m\u001b[4m--o-visualization\u001b[0m VISUALIZATION\r\n",
      "                                                                    \u001b[35m[required]\u001b[0m\r\n",
      "\u001b[1mMiscellaneous\u001b[0m:\r\n",
      "  \u001b[34m--output-dir\u001b[0m PATH    Output unspecified results to a directory\r\n",
      "  \u001b[34m--verbose\u001b[0m / \u001b[34m--quiet\u001b[0m  Display verbose output to stdout and/or stderr during\r\n",
      "                       execution of this action. Or silence output if\r\n",
      "                       execution is successful (silence is golden).\r\n",
      "  \u001b[34m--examples\u001b[0m           Show usage examples and exit.\r\n",
      "  \u001b[34m--citations\u001b[0m          Show citations and exit.\r\n",
      "  \u001b[34m--help\u001b[0m               Show this message and exit.\r\n",
      "\r\n",
      "\u001b[33m                  There were some problems with the command:                  \u001b[0m\r\n",
      "\u001b[31m\u001b[1m (1/3) Invalid value for '--i-distance-matrix': 'core-metrics-gg-\r\n",
      "  results/weighted_unifrac_distance_matrix.qza' is not a valid filepath\u001b[0m\r\n",
      "\u001b[31m\u001b[1m (2/3) Invalid value for '--m-metadata-file': Metadata column is of type\r\n",
      "  'numeric', but expected Categorical.\u001b[0m\r\n",
      "\u001b[31m\u001b[1m (3/3) Invalid value for '--o-visualization': Directory 'core-metrics-gg-\r\n",
      "  results' does not exist, cannot save\r\n",
      "  'weighted_unifrac_beta_diversity_new.qzv' into it.\u001b[0m\r\n"
     ]
    }
   ],
   "source": [
    "!qiime diversity beta-group-significance \\\n",
    "  --i-distance-matrix core-metrics-gg-results/weighted_unifrac_distance_matrix.qza \\\n",
    "  --m-metadata-file Sample_metadata.txt \\\n",
    "  --m-metadata-column Group \\\n",
    "  --o-visualization core-metrics-gg-results/weighted_unifrac_beta_diversity_new.qzv \\\n",
    "  --p-pairwise \\\n",
    "  --p-permutations 999"
   ]
  },
  {
   "cell_type": "code",
   "execution_count": null,
   "metadata": {},
   "outputs": [],
   "source": [
    "!qiime diversity beta-group-significance \\\n",
    "  --i-distance-matrix core-metrics-results_200/weighted_unifrac_distance_matrix.qza \\\n",
    "  --m-metadata-file Sample_metadata.txt \\\n",
    "  --m-metadata-column Kanamycin \\\n",
    "  --o-visualization core-metrics-results_200/weighted_unifrac_significance_new.qzv \\\n",
    "  --p-pairwise \\\n",
    "  --p-permutations 999"
   ]
  },
  {
   "cell_type": "code",
   "execution_count": 50,
   "metadata": {},
   "outputs": [
    {
     "name": "stdout",
     "output_type": "stream",
     "text": [
      "\u001b[32mSaved Visualization to: alpha-rarefaction.qzv\u001b[0m\r\n"
     ]
    }
   ],
   "source": [
    "!qiime diversity alpha-rarefaction \\\n",
    "  --i-table pet-table.qza \\\n",
    "  --i-phylogeny rooted-tree.qza \\\n",
    "  --p-max-depth 116543 \\\n",
    "  --m-metadata-file Sample_metadata_or_aexp2.txt \\\n",
    "  --o-visualization alpha-rarefaction.qzv"
   ]
  },
  {
   "cell_type": "code",
   "execution_count": 27,
   "metadata": {},
   "outputs": [
    {
     "name": "stdout",
     "output_type": "stream",
     "text": [
      "\u001b[32mSaved Visualization to: core-metrics-results/faith-pd-group-significance.qzv\u001b[0m\n",
      "\u001b[32mSaved Visualization to: core-metrics-results/evenness-group-significance.qzv\u001b[0m\n"
     ]
    }
   ],
   "source": [
    "!qiime diversity alpha-group-significance \\\n",
    "  --i-alpha-diversity core-metrics-results/faith_pd_vector.qza \\\n",
    "  --m-metadata-file Sample_metadata_or_succession.txt \\\n",
    "  --o-visualization core-metrics-results/faith-pd-group-significance.qzv\n",
    "\n",
    "!qiime diversity alpha-group-significance \\\n",
    "  --i-alpha-diversity core-metrics-results/evenness_vector.qza \\\n",
    "  --m-metadata-file Sample_metadata_or_succession.txt \\\n",
    "  --o-visualization core-metrics-results/evenness-group-significance.qzv"
   ]
  },
  {
   "cell_type": "code",
   "execution_count": 44,
   "metadata": {},
   "outputs": [
    {
     "name": "stdout",
     "output_type": "stream",
     "text": [
      "/Volumes/Elements/Denovo_suc_demux/succession\n"
     ]
    }
   ],
   "source": [
    "cd /Volumes/Elements/Denovo_suc_demux/succession/"
   ]
  },
  {
   "cell_type": "code",
   "execution_count": 35,
   "metadata": {},
   "outputs": [
    {
     "name": "stdout",
     "output_type": "stream",
     "text": [
      "\u001b[32mSaved SampleData[AlphaDiversity] to: alpha-diversity-chao/alpha_diversity.qza\u001b[0m\r\n"
     ]
    }
   ],
   "source": [
    "#Alpha diversity Shannon index\n",
    "!qiime diversity alpha \\\n",
    "--i-table pet-table.qza \\\n",
    "--p-metric chao1 \\\n",
    "--output-dir alpha-diversity-chao"
   ]
  },
  {
   "cell_type": "code",
   "execution_count": 36,
   "metadata": {},
   "outputs": [
    {
     "name": "stdout",
     "output_type": "stream",
     "text": [
      "\u001b[32mSaved SampleData[AlphaDiversity] to: alpha-diversity-shannon/alpha_diversity.qza\u001b[0m\r\n"
     ]
    }
   ],
   "source": [
    "#Alpha diversity Shannon index\n",
    "!qiime diversity alpha \\\n",
    "--i-table pet-table.qza \\\n",
    "--p-metric shannon \\\n",
    "--output-dir alpha-diversity-shannon"
   ]
  }
 ],
 "metadata": {
  "kernelspec": {
   "display_name": "Python 3 (ipykernel)",
   "language": "python",
   "name": "python3"
  },
  "language_info": {
   "codemirror_mode": {
    "name": "ipython",
    "version": 3
   },
   "file_extension": ".py",
   "mimetype": "text/x-python",
   "name": "python",
   "nbconvert_exporter": "python",
   "pygments_lexer": "ipython3",
   "version": "3.9.13"
  }
 },
 "nbformat": 4,
 "nbformat_minor": 2
}
